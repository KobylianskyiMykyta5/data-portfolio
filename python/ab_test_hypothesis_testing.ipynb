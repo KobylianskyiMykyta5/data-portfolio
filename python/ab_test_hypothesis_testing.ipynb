{
 "cells": [
  {
   "cell_type": "markdown",
   "id": "2b2f8c80-ed6f-4b50-b93a-52a4d340a7bb",
   "metadata": {},
   "source": [
    "# Завдання (крок за кроком)\r\n",
    "\r\n",
    "**1. Зчитай дані з файлу та виведи інформацію про результати A/B тесту:**  \r\n",
    "- Кількість користувачів в групах **A** та **B** відповідно  \r\n",
    "- Кількість конверсій в групах **A** та **B** відповідно  \r\n",
    "- Рівень конверсії в групах **A** та **B** відповідно  \r\n",
    "- Дату початку та дату кінця тесту, а також **тривалість тесту в днях**  \r\n",
    "\r\n",
    "---\r\n",
    "\r\n",
    "**2. Обери статистичний критерій для тестування гіпотез на свій розсуд:**  \r\n",
    "- Обрахуй значення статистики та *p-value*  \r\n",
    "- Перевір, чи можемо ми відхилити нульову гіпотезу  \r\n",
    "- Уточни, який критерій вористовуєш 😉  \r\n",
    "\r\n",
    "---\r\n",
    "\r\n",
    "**3. Побудуй візуалізацію:**  \r\n",
    "- Для порівняння середніх значень у групах з **95% довірчими інтервалами**  \r\n",
    "\r\n",
    "---\r\n",
    "\r\n",
    "**4. Підготуй висновки:**  \r\n",
    "- Зроби висновки про результати A/B тесту згідно з рекомендаціями  \r\n",
    "\r\n",
    "---\r\n",
    "\r\n",
    "## 🎁 Бонусне завдання\r\n",
    "Побудуй графік, що відображатиме **зміну конверсії в часі**  \r\n",
    "(врахуй, що у нас є дані про час здійснення івенту).  \r\n",
    "час здійснення івенту. у форматі pdf або зображення."
   ]
  },
  {
   "cell_type": "code",
   "execution_count": 2,
   "id": "1838be4e-0c75-4996-93cd-c65ddc57836b",
   "metadata": {},
   "outputs": [],
   "source": [
    "import pandas as pd"
   ]
  },
  {
   "cell_type": "code",
   "execution_count": 3,
   "id": "57c025b8-7474-41ea-8309-16f8a3d2c9df",
   "metadata": {},
   "outputs": [],
   "source": [
    "from scipy import stats"
   ]
  },
  {
   "cell_type": "code",
   "execution_count": 4,
   "id": "4c419923-c85f-4554-a1cd-1ad44ece1faa",
   "metadata": {},
   "outputs": [
    {
     "data": {
      "text/html": [
       "<div>\n",
       "<style scoped>\n",
       "    .dataframe tbody tr th:only-of-type {\n",
       "        vertical-align: middle;\n",
       "    }\n",
       "\n",
       "    .dataframe tbody tr th {\n",
       "        vertical-align: top;\n",
       "    }\n",
       "\n",
       "    .dataframe thead th {\n",
       "        text-align: right;\n",
       "    }\n",
       "</style>\n",
       "<table border=\"1\" class=\"dataframe\">\n",
       "  <thead>\n",
       "    <tr style=\"text-align: right;\">\n",
       "      <th></th>\n",
       "      <th>user_id</th>\n",
       "      <th>timestamp</th>\n",
       "      <th>test_group</th>\n",
       "      <th>conversion</th>\n",
       "    </tr>\n",
       "  </thead>\n",
       "  <tbody>\n",
       "    <tr>\n",
       "      <th>0</th>\n",
       "      <td>7f6833e6-1141-4f20-b4b2-f1e31019b1fd</td>\n",
       "      <td>2023-07-04 04:40:55.848109</td>\n",
       "      <td>a</td>\n",
       "      <td>0</td>\n",
       "    </tr>\n",
       "    <tr>\n",
       "      <th>1</th>\n",
       "      <td>e6a6e960-d3f3-4074-a516-ba1e609b211e</td>\n",
       "      <td>2023-07-06 00:26:45.486187</td>\n",
       "      <td>b</td>\n",
       "      <td>0</td>\n",
       "    </tr>\n",
       "    <tr>\n",
       "      <th>2</th>\n",
       "      <td>4d3fbfa5-6847-410a-bac2-477f01d5f400</td>\n",
       "      <td>2023-07-10 20:24:33.639464</td>\n",
       "      <td>b</td>\n",
       "      <td>0</td>\n",
       "    </tr>\n",
       "    <tr>\n",
       "      <th>3</th>\n",
       "      <td>361457d9-a044-48f7-981c-d67dc3861679</td>\n",
       "      <td>2023-07-20 07:04:49.957013</td>\n",
       "      <td>b</td>\n",
       "      <td>0</td>\n",
       "    </tr>\n",
       "    <tr>\n",
       "      <th>4</th>\n",
       "      <td>285cd63d-7d03-427f-a062-1fa2dd2e77d6</td>\n",
       "      <td>2023-07-19 23:27:50.116680</td>\n",
       "      <td>b</td>\n",
       "      <td>0</td>\n",
       "    </tr>\n",
       "    <tr>\n",
       "      <th>...</th>\n",
       "      <td>...</td>\n",
       "      <td>...</td>\n",
       "      <td>...</td>\n",
       "      <td>...</td>\n",
       "    </tr>\n",
       "    <tr>\n",
       "      <th>19993</th>\n",
       "      <td>6763ae9a-515c-473e-af00-0d9c4f6a5bc7</td>\n",
       "      <td>2023-07-06 03:27:37.041104</td>\n",
       "      <td>b</td>\n",
       "      <td>0</td>\n",
       "    </tr>\n",
       "    <tr>\n",
       "      <th>19994</th>\n",
       "      <td>ac5600f2-4d16-4503-b115-f1a96728b6d1</td>\n",
       "      <td>2023-07-03 04:20:48.572143</td>\n",
       "      <td>a</td>\n",
       "      <td>0</td>\n",
       "    </tr>\n",
       "    <tr>\n",
       "      <th>19995</th>\n",
       "      <td>5a8b2630-209b-4d83-b47f-0f3d9dd568a8</td>\n",
       "      <td>2023-07-23 16:23:49.211910</td>\n",
       "      <td>b</td>\n",
       "      <td>1</td>\n",
       "    </tr>\n",
       "    <tr>\n",
       "      <th>19996</th>\n",
       "      <td>b572d68b-26ac-432b-9f88-83e0fdee4ca1</td>\n",
       "      <td>2023-07-03 18:26:20.880675</td>\n",
       "      <td>b</td>\n",
       "      <td>0</td>\n",
       "    </tr>\n",
       "    <tr>\n",
       "      <th>19997</th>\n",
       "      <td>3d313adc-c8d6-43f2-8b4e-e267b194ff78</td>\n",
       "      <td>2023-07-19 13:15:37.562340</td>\n",
       "      <td>b</td>\n",
       "      <td>0</td>\n",
       "    </tr>\n",
       "  </tbody>\n",
       "</table>\n",
       "<p>19998 rows × 4 columns</p>\n",
       "</div>"
      ],
      "text/plain": [
       "                                    user_id                   timestamp  \\\n",
       "0      7f6833e6-1141-4f20-b4b2-f1e31019b1fd  2023-07-04 04:40:55.848109   \n",
       "1      e6a6e960-d3f3-4074-a516-ba1e609b211e  2023-07-06 00:26:45.486187   \n",
       "2      4d3fbfa5-6847-410a-bac2-477f01d5f400  2023-07-10 20:24:33.639464   \n",
       "3      361457d9-a044-48f7-981c-d67dc3861679  2023-07-20 07:04:49.957013   \n",
       "4      285cd63d-7d03-427f-a062-1fa2dd2e77d6  2023-07-19 23:27:50.116680   \n",
       "...                                     ...                         ...   \n",
       "19993  6763ae9a-515c-473e-af00-0d9c4f6a5bc7  2023-07-06 03:27:37.041104   \n",
       "19994  ac5600f2-4d16-4503-b115-f1a96728b6d1  2023-07-03 04:20:48.572143   \n",
       "19995  5a8b2630-209b-4d83-b47f-0f3d9dd568a8  2023-07-23 16:23:49.211910   \n",
       "19996  b572d68b-26ac-432b-9f88-83e0fdee4ca1  2023-07-03 18:26:20.880675   \n",
       "19997  3d313adc-c8d6-43f2-8b4e-e267b194ff78  2023-07-19 13:15:37.562340   \n",
       "\n",
       "      test_group  conversion  \n",
       "0              a           0  \n",
       "1              b           0  \n",
       "2              b           0  \n",
       "3              b           0  \n",
       "4              b           0  \n",
       "...          ...         ...  \n",
       "19993          b           0  \n",
       "19994          a           0  \n",
       "19995          b           1  \n",
       "19996          b           0  \n",
       "19997          b           0  \n",
       "\n",
       "[19998 rows x 4 columns]"
      ]
     },
     "execution_count": 4,
     "metadata": {},
     "output_type": "execute_result"
    }
   ],
   "source": [
    "df_ab = pd.read_csv('ab_test_data.csv')\n",
    "df_ab"
   ]
  },
  {
   "cell_type": "code",
   "execution_count": 12,
   "id": "d378cb7d-5f0c-4620-b404-2a00ba99ef08",
   "metadata": {},
   "outputs": [
    {
     "name": "stdout",
     "output_type": "stream",
     "text": [
      "users_a:  10013 , users_b:  9985\n"
     ]
    }
   ],
   "source": [
    "# Кількість користувачів в групах A та B відповідно\n",
    "users_a = df_ab[df_ab['test_group'] == 'a']['user_id'].nunique()\n",
    "users_b = df_ab[df_ab['test_group'] == 'b']['user_id'].nunique()\n",
    "print('users_a: ', users_a, ',',\n",
    "      'users_b: ', users_b)"
   ]
  },
  {
   "cell_type": "code",
   "execution_count": 15,
   "id": "99fd4caa-f3bd-4621-9e9a-80d1ef541245",
   "metadata": {},
   "outputs": [
    {
     "name": "stdout",
     "output_type": "stream",
     "text": [
      "conv_a:  611 , conv_b:  889\n"
     ]
    }
   ],
   "source": [
    "# Кількість конверсій в групах A та B відповідно\n",
    "conv_a = df_ab[df_ab['test_group'] == 'a']['conversion'].sum()\n",
    "conv_b = df_ab[df_ab['test_group'] == 'b']['conversion'].sum()\n",
    "print('conv_a: ', conv_a, ',',\n",
    "      'conv_b: ', conv_b)"
   ]
  },
  {
   "cell_type": "code",
   "execution_count": 16,
   "id": "a118a115-45d3-40b9-a3ff-a652850ffebf",
   "metadata": {},
   "outputs": [
    {
     "name": "stdout",
     "output_type": "stream",
     "text": [
      "CR A:  6.102067312493758 , CR B:  8.903355032548824\n"
     ]
    }
   ],
   "source": [
    "# Рівень конверсії в групах A та B відповідно\n",
    "cr_a = conv_a/users_a * 100\n",
    "cr_b = conv_b/users_b * 100\n",
    "print ('CR A: ', cr_a,',', 'CR B: ', cr_b)"
   ]
  },
  {
   "cell_type": "code",
   "execution_count": 18,
   "id": "809cb93b-11e6-4ba1-af29-3264376ccd6e",
   "metadata": {},
   "outputs": [
    {
     "name": "stdout",
     "output_type": "stream",
     "text": [
      "<class 'pandas.core.frame.DataFrame'>\n",
      "RangeIndex: 19998 entries, 0 to 19997\n",
      "Data columns (total 4 columns):\n",
      " #   Column      Non-Null Count  Dtype \n",
      "---  ------      --------------  ----- \n",
      " 0   user_id     19998 non-null  object\n",
      " 1   timestamp   19998 non-null  object\n",
      " 2   test_group  19998 non-null  object\n",
      " 3   conversion  19998 non-null  int64 \n",
      "dtypes: int64(1), object(3)\n",
      "memory usage: 625.1+ KB\n"
     ]
    }
   ],
   "source": [
    "df_ab.info()"
   ]
  },
  {
   "cell_type": "code",
   "execution_count": 20,
   "id": "a074b2e0-ef0e-4de2-963a-07095db90b3b",
   "metadata": {},
   "outputs": [
    {
     "name": "stdout",
     "output_type": "stream",
     "text": [
      "<class 'pandas.core.frame.DataFrame'>\n",
      "RangeIndex: 19998 entries, 0 to 19997\n",
      "Data columns (total 4 columns):\n",
      " #   Column      Non-Null Count  Dtype         \n",
      "---  ------      --------------  -----         \n",
      " 0   user_id     19998 non-null  object        \n",
      " 1   timestamp   19998 non-null  datetime64[ns]\n",
      " 2   test_group  19998 non-null  object        \n",
      " 3   conversion  19998 non-null  int64         \n",
      "dtypes: datetime64[ns](1), int64(1), object(2)\n",
      "memory usage: 625.1+ KB\n"
     ]
    }
   ],
   "source": [
    "df_ab['timestamp'] = pd.to_datetime(df_ab['timestamp'], format = 'mixed')\n",
    "df_ab.info()"
   ]
  },
  {
   "cell_type": "code",
   "execution_count": 21,
   "id": "2d3a41f3-8c13-45a3-bf96-0acb4076944d",
   "metadata": {},
   "outputs": [
    {
     "name": "stdout",
     "output_type": "stream",
     "text": [
      "First date:  2023-07-03 01:42:34.033708\n",
      "Last date:  2023-07-25 01:41:19.152664\n",
      "Duration, days:  21\n"
     ]
    }
   ],
   "source": [
    "# Дату початку та дату кінця тесту, а також тривалість тесту в днях\n",
    "first_date = df_ab['timestamp'].min()\n",
    "last_date = df_ab['timestamp'].max()\n",
    "duration = (last_date - first_date).days\n",
    "print('First date: ', first_date)\n",
    "print('Last date: ', last_date)\n",
    "print('Duration, days: ', duration)"
   ]
  },
  {
   "cell_type": "code",
   "execution_count": 6,
   "id": "c3d1fd36-016b-4a5a-a24e-e25c30f9210f",
   "metadata": {},
   "outputs": [
    {
     "name": "stdout",
     "output_type": "stream",
     "text": [
      "t-statistic: 56.14, p-value: 0.0\n",
      "The difference is statistically significant, Null Hypothesis is rejected.\n"
     ]
    }
   ],
   "source": [
    "# Обери статистичний критерій для тестування гіпотез на свій розсуд\n",
    "## Критерій Хі-квадрат\n",
    "alpha = 0.05\n",
    "\n",
    "observed = pd.crosstab(df_ab['test_group'].values, df_ab['conversion'].values)\n",
    "statistic, pvalue, dof, expected_values = stats.chi2_contingency(observed)\n",
    "\n",
    "print(f't-statistic: {round(statistic, 2)}, p-value: {round(pvalue, 2)}')\n",
    "\n",
    "if pvalue < alpha:\n",
    "    print('The difference is statistically significant, Null Hypothesis is rejected.')\n",
    "else:\n",
    "    print('The difference is insignificant, Null Hypothesis cannot rejected.')\n"
   ]
  },
  {
   "cell_type": "code",
   "execution_count": 12,
   "id": "528cdbc0-78c1-4e05-a430-cd1b2547b8f4",
   "metadata": {},
   "outputs": [
    {
     "data": {
      "image/png": "[encoded data removed]",
      "text/plain": [
       "<Figure size 800x600 with 1 Axes>"
      ]
     },
     "metadata": {},
     "output_type": "display_data"
    }
   ],
   "source": [
    "# Візуалізація для порівняння середніх значень у групах з 95% довірчими інтервалами\n",
    "import matplotlib.pyplot as plt\n",
    "import seaborn as sns\n",
    "\n",
    "plt.figure(figsize=(8, 6))\n",
    "sns.barplot(x=df_ab['test_group'], \n",
    "            y=df_ab['conversion'], \n",
    "            errorbar=('ci', 95)) # Confidence Intervals\n",
    "\n",
    "plt.title('A/B Test Results')\n",
    "plt.xlabel('Group')\n",
    "plt.ylabel('Mean')\n",
    "\n",
    "plt.savefig(\"A_B_Test_Results.pdf\", dpi=300, bbox_inches=\"tight\")\n",
    "plt.show()\n"
   ]
  },
  {
   "cell_type": "code",
   "execution_count": 10,
   "id": "19a9f967-45f9-4dd4-9e68-94e2ef9022eb",
   "metadata": {},
   "outputs": [
    {
     "data": {
      "image/png": "[encoded data removed]",
      "text/plain": [
       "<Figure size 1000x600 with 1 Axes>"
      ]
     },
     "metadata": {},
     "output_type": "display_data"
    }
   ],
   "source": [
    "# Графік, що відображатиме зміну конверсії в часі\n",
    "\n",
    "# Сортування за датою та часом\n",
    "df_ab = df_ab.sort_values('timestamp')\n",
    "\n",
    "# Рахуємо кумулятивне середнє - це і є зміна конверсії з плином часу\n",
    "cumulative_metric_a = df_ab[df_ab['test_group'] == 'a']['conversion'].expanding().mean().reset_index(drop=True)\n",
    "cumulative_metric_b = df_ab[df_ab['test_group'] == 'b']['conversion'].expanding().mean().reset_index(drop=True)\n",
    "\n",
    "plt.figure(figsize=(10, 6))\n",
    "plt.plot(cumulative_metric_a, label='a')\n",
    "plt.plot(cumulative_metric_b, label='b')\n",
    "\n",
    "plt.title('Cumulative Сonversion Rate Comparison')\n",
    "plt.xlabel('Time')\n",
    "plt.ylabel('Cumulative Сonversion Rate')\n",
    "\n",
    "plt.legend()\n",
    "plt.savefig(\"cumulative_conversion.pdf\", dpi=300, bbox_inches=\"tight\")\n",
    "plt.show()\n"
   ]
  },
  {
   "cell_type": "code",
   "execution_count": null,
   "id": "ef73625b-421c-458f-a332-62117e43608d",
   "metadata": {},
   "outputs": [],
   "source": [
    "\n"
   ]
  }
 ],
 "metadata": {
  "kernelspec": {
   "display_name": "anaconda-panel-2023.05-py310",
   "language": "python",
   "name": "conda-env-anaconda-panel-2023.05-py310-py"
  },
  "language_info": {
   "codemirror_mode": {
    "name": "ipython",
    "version": 3
   },
   "file_extension": ".py",
   "mimetype": "text/x-python",
   "name": "python",
   "nbconvert_exporter": "python",
   "pygments_lexer": "ipython3",
   "version": "3.11.5"
  }
 },
 "nbformat": 4,
 "nbformat_minor": 5
}
